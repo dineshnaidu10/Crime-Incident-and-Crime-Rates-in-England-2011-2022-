{
 "cells": [
  {
   "cell_type": "code",
   "execution_count": null,
   "metadata": {},
   "outputs": [],
   "source": [
    "#Import required libraries\n",
    "import pandas as pd\n",
    "from tqdm import tqdm\n",
    "import matplotlib.pyplot as plt"
   ]
  },
  {
   "cell_type": "code",
   "execution_count": null,
   "metadata": {},
   "outputs": [],
   "source": [
    "#Load dataset into a Pandas DataFrame\n",
    "df = pd.read_csv('2011-2022_street.csv')"
   ]
  },
  {
   "cell_type": "code",
   "execution_count": null,
   "metadata": {},
   "outputs": [],
   "source": [
    "#Convert month datatype to datetime format\n",
    "df['Month'] = pd.to_datetime(df['Month'])"
   ]
  },
  {
   "cell_type": "code",
   "execution_count": null,
   "metadata": {},
   "outputs": [],
   "source": [
    "#Rename month column to a more appropriate name\n",
    "df.rename(columns={'Month':'Year-Month'}, inplace=True)"
   ]
  },
  {
   "cell_type": "code",
   "execution_count": null,
   "metadata": {},
   "outputs": [],
   "source": [
    "#Creating a new column to indicate crime count of 1 for each row\n",
    "df['Crime_count'] = 1\n",
    "\n",
    "#Create 3 new dataframes grouped by year, crime type and location against sum of crime incidents\n",
    "df_yearcount = df.groupby(['Year-Month'])['Crime_count'].sum().reset_index()\n",
    "df_crimetypecount = df.groupby(['Year-Month', 'Crime type'])['Crime_count'].sum().reset_index()\n",
    "df_loccount = df.groupby(['Location'])['Crime_count'].sum().reset_index()"
   ]
  },
  {
   "cell_type": "code",
   "execution_count": null,
   "metadata": {},
   "outputs": [],
   "source": [
    "#Code block to plot line chart of number of reported crimes by year\n",
    "f = plt.figure()\n",
    "f.set_figwidth(10)\n",
    "f.set_figheight(6)\n",
    "plt.plot(df_yearcount['Year-Month'], df_yearcount['Crime_count'])\n",
    "plt.title('Numbers of Reported Crimes (2011-2022)')\n",
    "plt.xlabel('Year')\n",
    "plt.ylabel('Number of Reported Crimes')\n",
    "plt.show()"
   ]
  },
  {
   "cell_type": "code",
   "execution_count": null,
   "metadata": {},
   "outputs": [],
   "source": [
    "#Generate 2 different columns that states Month and Year name\n",
    "\n",
    "tqdm.pandas(desc='Month', colour='Green')\n",
    "df_yearcount['Month'] = df_yearcount.progress_apply(lambda row: row[0].month_name(), axis=1)\n",
    "\n",
    "tqdm.pandas(desc='Year', colour='Green')\n",
    "df_yearcount['Year'] = df_yearcount.progress_apply(lambda row: row[0].year, axis=1)"
   ]
  },
  {
   "cell_type": "code",
   "execution_count": null,
   "metadata": {},
   "outputs": [],
   "source": [
    "#Code block to plot number of reported crimes by Calendar Month\n",
    "\n",
    "import plotly.express as px\n",
    "\n",
    "fig = px.line(df_yearcount, x='Month', y='Crime_count', color='Year', \n",
    "            title='Numbers of Reported Crimes (2011-2022), by Calendar Month')\n",
    "fig.show()"
   ]
  },
  {
   "cell_type": "code",
   "execution_count": null,
   "metadata": {},
   "outputs": [],
   "source": [
    "#Code block to plot number of reported crimes by Crime Type\n",
    "\n",
    "fig = px.line(df_crimetypecount, x='Year-Month', y='Crime_count', color='Crime type',\n",
    "                                labels={'Year', 'Number of Reported Crimes', 'Crime Type'},\n",
    "                                title='Numbers of Reported Crimes (2011-2022), by Crime Type')\n",
    "fig.show()"
   ]
  },
  {
   "cell_type": "code",
   "execution_count": null,
   "metadata": {},
   "outputs": [],
   "source": [
    "#Code block to generate treemap of the top 15 crime incident occuring locations\n",
    "\n",
    "df_loccount = df_loccount.sort_values(by='Crime_count', ascending=False)\n",
    "\n",
    "fig = px.treemap(df_loccount.head(15), path=['Location'], values='Crime_count', color=df_loccount['Crime_count'].head(15), \n",
    "                    hover_data=['Location'], color_continuous_scale='Greens')\n",
    "fig.show()"
   ]
  },
  {
   "cell_type": "code",
   "execution_count": null,
   "metadata": {},
   "outputs": [],
   "source": [
    "#Import geopandas library and read the .geojson file\n",
    "\n",
    "import geopandas as gpd\n",
    "\n",
    "map_df = gpd.read_file('lsoa.geojson')\n",
    "map_df.head()"
   ]
  },
  {
   "cell_type": "code",
   "execution_count": null,
   "metadata": {},
   "outputs": [],
   "source": [
    "#Rename columns to ensure consistency among all datasets\n",
    "map_df.rename(columns={'LSOA11CD':'LSOA code'}, inplace=True)\n",
    "map_df.head()"
   ]
  },
  {
   "cell_type": "code",
   "execution_count": null,
   "metadata": {},
   "outputs": [],
   "source": [
    "#Create a new dataframe to groupby sum of crime incidents in each LSOA code\n",
    "df_lsoacount = df.groupby(['LSOA code'])['Crime_count'].sum().reset_index()\n",
    "df_lsoacount.head()"
   ]
  },
  {
   "cell_type": "code",
   "execution_count": null,
   "metadata": {},
   "outputs": [],
   "source": [
    "map_df.plot()"
   ]
  },
  {
   "cell_type": "code",
   "execution_count": null,
   "metadata": {},
   "outputs": [],
   "source": [
    "#Create a new dataframe by merging the Dataframe from the .geojson file and the LSAO crime counts\n",
    "merged_df = map_df.set_index('LSOA code').join(df_lsoacount.set_index('LSOA code'))\n",
    "merged_df.head()"
   ]
  },
  {
   "cell_type": "code",
   "execution_count": null,
   "metadata": {},
   "outputs": [],
   "source": [
    "#Code block to plot number of reported crimes for each LSOA in a map\n",
    "\n",
    "vmin, vmax = 0, 70000\n",
    "fig, ax = plt.subplots(1, figsize=(15, 6))\n",
    "merged_df.plot(column='Crime_count', cmap='Reds', linewidth=0.15, ax=ax, edgecolor='0.9')\n",
    "ax.axis('off')\n",
    "ax.set_title('Numbers of Reported Crimes (2011-2022), by LSOA', fontdict={'fontsize':'10', 'fontweight':'3'})\n",
    "sm = plt.cm.ScalarMappable(cmap='Reds', norm=plt.Normalize(vmin=vmin, vmax=vmax))\n",
    "sm._A = []\n",
    "cbar = fig.colorbar(sm)"
   ]
  },
  {
   "cell_type": "code",
   "execution_count": null,
   "metadata": {},
   "outputs": [],
   "source": [
    "#Reset Index of the DataFrame to bring back LSOA code column in the DataFrame\n",
    "merged_df = merged_df.reset_index()\n",
    "merged_df.head()"
   ]
  },
  {
   "cell_type": "code",
   "execution_count": null,
   "metadata": {},
   "outputs": [],
   "source": [
    "#Derive the centroid coordinates from the DataFrame\n",
    "x_map=merged_df.centroid.x.mean()\n",
    "y_map=merged_df.centroid.y.mean()\n",
    "print(x_map,y_map)"
   ]
  },
  {
   "cell_type": "code",
   "execution_count": null,
   "metadata": {},
   "outputs": [],
   "source": [
    "#Import required map libraries and initialize the map according to the centroids\n",
    "\n",
    "import folium\n",
    "\n",
    "mymap = folium.Map(location=[y_map, x_map], zoom_start=11,tiles=None)\n",
    "folium.TileLayer('CartoDB positron',name=\"Light Map\",control=False).add_to(mymap)\n",
    "mymap"
   ]
  },
  {
   "cell_type": "code",
   "execution_count": null,
   "metadata": {},
   "outputs": [],
   "source": [
    "#Codeblock to create initial chloropleth map\n",
    "\n",
    "mymap.choropleth(\n",
    " geo_data=merged_df,\n",
    " name='Choropleth',\n",
    " data=merged_df,\n",
    " columns=['LSOA code','Crime_count'],\n",
    " key_on=\"feature.properties.LSOA code\",\n",
    " fill_color='Reds',\n",
    " fill_opacity=1,\n",
    " line_opacity=0.2,\n",
    " legend_name='Number of Reported Crimes (2011-2022), by LSOA',\n",
    " smooth_factor=0\n",
    ")\n",
    "mymap"
   ]
  },
  {
   "cell_type": "code",
   "execution_count": null,
   "metadata": {},
   "outputs": [],
   "source": [
    "#Code block to add interactivity and dialogue box with labels inside the map\n",
    "\n",
    "style_function = lambda x: {'fillColor': '#ffffff', \n",
    "                            'color':'#000000', \n",
    "                            'fillOpacity': 0.1, \n",
    "                            'weight': 0.1}\n",
    "highlight_function = lambda x: {'fillColor': '#000000', \n",
    "                                'color':'#000000', \n",
    "                                'fillOpacity': 0.50, \n",
    "                                'weight': 0.1}\n",
    "LSOA = folium.features.GeoJson(\n",
    "    merged_df,\n",
    "    style_function=style_function, \n",
    "    control=False,\n",
    "    highlight_function=highlight_function, \n",
    "    tooltip=folium.features.GeoJsonTooltip(\n",
    "        fields=['LSOA11NM','Crime_count'],\n",
    "        aliases=['LSOA: ','Total Crime Incidents: '],\n",
    "        style=(\"background-color: white; color: #333333; font-family: arial; font-size: 12px; padding: 10px;\") \n",
    "    )\n",
    ")\n",
    "mymap.add_child(LSOA)\n",
    "mymap.keep_in_front(LSOA)\n",
    "folium.LayerControl().add_to(mymap)\n",
    "mymap"
   ]
  },
  {
   "cell_type": "code",
   "execution_count": null,
   "metadata": {},
   "outputs": [],
   "source": []
  },
  {
   "cell_type": "code",
   "execution_count": null,
   "metadata": {},
   "outputs": [],
   "source": []
  },
  {
   "cell_type": "code",
   "execution_count": null,
   "metadata": {},
   "outputs": [],
   "source": []
  }
 ],
 "metadata": {
  "kernelspec": {
   "display_name": "Python 3",
   "language": "python",
   "name": "python3"
  },
  "language_info": {
   "codemirror_mode": {
    "name": "ipython",
    "version": 3
   },
   "file_extension": ".py",
   "mimetype": "text/x-python",
   "name": "python",
   "nbconvert_exporter": "python",
   "pygments_lexer": "ipython3",
   "version": "3.11.0 (main, Oct 24 2022, 18:26:48) [MSC v.1933 64 bit (AMD64)]"
  },
  "orig_nbformat": 4,
  "vscode": {
   "interpreter": {
    "hash": "8739e4b358eae07c3281d9c8f6f7d7251326c4bd9bea69a29571a5fa3f04719e"
   }
  }
 },
 "nbformat": 4,
 "nbformat_minor": 2
}
