{
 "cells": [
  {
   "cell_type": "code",
   "execution_count": null,
   "metadata": {},
   "outputs": [],
   "source": [
    "import matplotlib.pyplot as plt\n",
    "import joblib\n",
    "from xgboost import plot_tree\n",
    "import treeplot as tree\n",
    "import pandas as pd\n",
    "import numpy as np\n",
    "import seaborn as sns\n",
    "import matplotlib.pyplot as plt\n",
    "\n",
    "model_xgb = joblib.load('xgb_crimerate_final.pkl')\n",
    "df = pd.read_csv('2011-2022_mergedcrimerate.csv')\n",
    "df = df.drop(['Month', 'LSOA code', 'Count', 'AS Score', 'Inflation_rate', 'Indoors Score'], axis=1)\n",
    "\n",
    "f_name = pd.Series(df.columns[0:17])\n",
    "f_imp = pd.Series(model_xgb.feature_importances_)\n",
    "f_xgb = pd.concat([f_name, f_imp], axis=1)\n",
    "f_xgb.columns = ['Feature_Name', 'Feature_Importance']\n",
    "f_xgb.sort_values(by=['Feature_Importance'], ascending=False,inplace=True)\n",
    "\n",
    "plt.figure(figsize=(12,5))\n",
    "sns.set(style='darkgrid',)\n",
    "sns.barplot(x='Feature_Importance', y='Feature_Name', data=f_xgb, palette='Greens_r', orient='h').set(title='XGBoost Regression Feature Importance')\n",
    "plt.tight_layout()\n",
    "plt.show()"
   ]
  }
 ],
 "metadata": {
  "kernelspec": {
   "display_name": "Python 3",
   "language": "python",
   "name": "python3"
  },
  "language_info": {
   "codemirror_mode": {
    "name": "ipython",
    "version": 3
   },
   "file_extension": ".py",
   "mimetype": "text/x-python",
   "name": "python",
   "nbconvert_exporter": "python",
   "pygments_lexer": "ipython3",
   "version": "3.11.0"
  },
  "orig_nbformat": 4
 },
 "nbformat": 4,
 "nbformat_minor": 2
}
