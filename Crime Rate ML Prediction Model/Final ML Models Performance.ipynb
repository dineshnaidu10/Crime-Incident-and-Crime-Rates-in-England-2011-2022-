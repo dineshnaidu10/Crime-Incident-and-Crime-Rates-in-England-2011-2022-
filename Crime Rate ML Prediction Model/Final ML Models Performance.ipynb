{
 "cells": [
  {
   "cell_type": "code",
   "execution_count": null,
   "metadata": {},
   "outputs": [],
   "source": [
    "import seaborn as sns\n",
    "import pandas as pd\n",
    "import matplotlib.pyplot as plt"
   ]
  },
  {
   "cell_type": "code",
   "execution_count": null,
   "metadata": {},
   "outputs": [],
   "source": [
    "df = pd.read_excel('phase6_results.xlsx')\n",
    "df"
   ]
  },
  {
   "cell_type": "code",
   "execution_count": null,
   "metadata": {},
   "outputs": [],
   "source": [
    "df_train_time = df[['ML', 'Training Time (s)']]\n",
    "df_train_time = df_train_time.sort_values(by=['Training Time (s)'], ascending=False).reset_index(drop=True)\n",
    "\n",
    "df_pred_time = df[['ML', 'Prediction Time (s)']]\n",
    "df_pred_time = df_pred_time.sort_values(by=['Prediction Time (s)'], ascending=False).reset_index(drop=True)\n",
    "\n",
    "df_mse = df[['ML', 'MSE']]\n",
    "df_mse = df_mse.sort_values(by=['MSE'], ascending=True).reset_index(drop=True)\n",
    "\n",
    "df_rmse = df[['ML', 'RMSE']]\n",
    "df_rmse = df_rmse.sort_values(by=['RMSE'], ascending=True).reset_index(drop=True)\n",
    "\n",
    "df_mae = df[['ML', 'MAE']]\n",
    "df_mae = df_mae.sort_values(by=['MAE'], ascending=True).reset_index(drop=True)"
   ]
  },
  {
   "cell_type": "code",
   "execution_count": null,
   "metadata": {},
   "outputs": [],
   "source": [
    "fig, axes = plt.subplots(1, 4, figsize=(15, 6))\n",
    "fig.suptitle('Final ML Models Performance')\n",
    "sns.set(style='darkgrid',)\n",
    "sns.barplot(ax=axes[0], x='ML', y='R2', data=df, color= 'Green').set(title='R2')\n",
    "sns.barplot(ax=axes[1], x='ML', y='MSE', data=df_mse, palette = 'OrRd_r').set(title='MSE')\n",
    "sns.barplot(ax=axes[2], x='ML', y='RMSE', data=df_rmse, palette = 'Blues_r').set(title='RMSE')\n",
    "sns.barplot(ax=axes[3], x='ML', y='MAE', data=df_mae, palette = 'Purples_r').set(title='MAE')\n",
    "\n",
    "for ax in axes.flat:\n",
    "    ax.set(xlabel=' ', ylabel=' ')\n",
    "\n",
    "for i in range(4):\n",
    "    for val in axes[i].containers:\n",
    "        axes[i].bar_label(val,)\n",
    "\n",
    "plt.tight_layout()\n",
    "plt.show()"
   ]
  },
  {
   "cell_type": "code",
   "execution_count": null,
   "metadata": {},
   "outputs": [],
   "source": [
    "fig, axes = plt.subplots(1, 2, figsize=(10, 5))\n",
    "fig.suptitle('Final ML Models Time Performance')\n",
    "sns.set(style='darkgrid',)\n",
    "sns.barplot(ax=axes[0], x='ML', y='Training Time (s)', data=df_train_time, palette='Greens').set(title='Training Time (s)')\n",
    "sns.barplot(ax=axes[1], x='ML', y='Prediction Time (s)', data=df_pred_time, palette = 'OrRd').set(title='Prediction Time (s)')\n",
    "\n",
    "for ax in axes.flat:\n",
    "    ax.set(xlabel=' ', ylabel=' ')\n",
    "\n",
    "for i in range(2):\n",
    "    for val in axes[i].containers:\n",
    "        axes[i].bar_label(val,)\n",
    "\n",
    "plt.tight_layout()\n",
    "plt.show()"
   ]
  },
  {
   "cell_type": "code",
   "execution_count": null,
   "metadata": {},
   "outputs": [],
   "source": [
    "fig, axes = plt.subplots(1,  figsize=(10, 4))\n",
    "sns.set(style='darkgrid',)\n",
    "sns.barplot(ax=axes, x='Model Size (MB)', y='ML', data=df, palette='Greens', orient='h').set(title='Final ML Models Model Size Comparison')\n",
    "\n",
    "for val in axes.containers:\n",
    "        axes.bar_label(val,)\n",
    "\n",
    "axes.set(ylabel=' ')\n",
    "\n",
    "plt.tight_layout()\n",
    "plt.show()"
   ]
  },
  {
   "cell_type": "code",
   "execution_count": null,
   "metadata": {},
   "outputs": [],
   "source": []
  }
 ],
 "metadata": {
  "kernelspec": {
   "display_name": "Python 3",
   "language": "python",
   "name": "python3"
  },
  "language_info": {
   "codemirror_mode": {
    "name": "ipython",
    "version": 3
   },
   "file_extension": ".py",
   "mimetype": "text/x-python",
   "name": "python",
   "nbconvert_exporter": "python",
   "pygments_lexer": "ipython3",
   "version": "3.11.0"
  },
  "orig_nbformat": 4
 },
 "nbformat": 4,
 "nbformat_minor": 2
}
