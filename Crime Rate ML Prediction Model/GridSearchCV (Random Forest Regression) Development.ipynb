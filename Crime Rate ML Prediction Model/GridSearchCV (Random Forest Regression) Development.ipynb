{
 "cells": [
  {
   "cell_type": "code",
   "execution_count": null,
   "metadata": {},
   "outputs": [],
   "source": [
    "# Supress Warnings\n",
    "import warnings\n",
    "warnings.filterwarnings('ignore')\n",
    "\n",
    "# Data Science\n",
    "import pandas as pd\n",
    "import numpy as np\n",
    "\n",
    "# Machine Learning\n",
    "from sklearn.preprocessing import StandardScaler\n",
    "from sklearn.model_selection import train_test_split\n",
    "from sklearn.ensemble import RandomForestRegressor\n",
    "from sklearn.model_selection import GridSearchCV\n",
    "\n",
    "# Others\n",
    "from sklearnex import patch_sklearn\n",
    "patch_sklearn()"
   ]
  },
  {
   "cell_type": "code",
   "execution_count": null,
   "metadata": {},
   "outputs": [],
   "source": [
    "df = pd.read_csv('2011-2022_mergedcrimerate.csv')\n",
    "df = df.drop(['Month', 'LSOA code', 'Count', 'AS Score', 'Inflation_rate', 'Indoors Score'], axis=1)\n",
    "df = df.sample(n = 1000000, random_state = 2)"
   ]
  },
  {
   "cell_type": "code",
   "execution_count": null,
   "metadata": {},
   "outputs": [],
   "source": [
    "X = df.drop(columns=['Crime Rate']).values\n",
    "y = df['Crime Rate'].values\n",
    "# Choose any random state\n",
    "X_train, X_test, y_train, y_test = train_test_split(X, y, test_size=0.3,random_state=17)"
   ]
  },
  {
   "cell_type": "code",
   "execution_count": null,
   "metadata": {},
   "outputs": [],
   "source": [
    "sc = StandardScaler()\n",
    "X_train = sc.fit_transform(X_train)\n",
    "X_test = sc.transform(X_test)"
   ]
  },
  {
   "cell_type": "code",
   "execution_count": null,
   "metadata": {},
   "outputs": [],
   "source": [
    "#with parallel_backend('threading', n_jobs=15):\n",
    "\n",
    "    # Initialize a Random Forest Regressor Model\n",
    "rf = RandomForestRegressor(n_jobs=-1, verbose=3)\n",
    "\n",
    "                # Initialize a parameter list that will be iterated in the grid search\n",
    "forest_params = [{'max_features': ['sqrt', 'log2', 'auto'], \n",
    "                    'n_estimators': [50, 100, 150],\n",
    "                    'max_depth':[16, 20, 24, 28, 32],\n",
    "                    'bootstrap':[True, False]\n",
    "                    }]\n",
    "\n",
    "                # Initiate a grid search model that takes in,\n",
    "                # - Rnadom Forest classifier model\n",
    "                # - List of parameters\n",
    "                # - Cross validation value. It is set to 10 in this case to ensure a robust model\n",
    "                # - n_jobs is set to 15 to ensure the model runs parallely across all threads in the processor\n",
    "                # - verbose is set to 3 to get a fairly good description on each loop\n",
    "                # - scoring metric is set to R2\n",
    "reg = GridSearchCV(rf, forest_params, cv = 5, scoring='r2', verbose=3)\n",
    "\n",
    "                # Use the initialized grid search model to train the split data\n",
    "reg.fit(X_train, y_train)"
   ]
  },
  {
   "cell_type": "code",
   "execution_count": null,
   "metadata": {},
   "outputs": [],
   "source": [
    "rfgrid_results = pd.DataFrame(reg.cv_results_)\n",
    "rfgrid_results.to_csv('rfgrid_results_sklearnex_1mil.csv', index=False)"
   ]
  }
 ],
 "metadata": {
  "kernelspec": {
   "display_name": "Python 3 (ipykernel)",
   "language": "python",
   "name": "python3"
  },
  "language_info": {
   "codemirror_mode": {
    "name": "ipython",
    "version": 3
   },
   "file_extension": ".py",
   "mimetype": "text/x-python",
   "name": "python",
   "nbconvert_exporter": "python",
   "pygments_lexer": "ipython3",
   "version": "3.11.0"
  }
 },
 "nbformat": 4,
 "nbformat_minor": 4
}
