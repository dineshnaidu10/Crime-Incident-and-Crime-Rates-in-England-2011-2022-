{
 "cells": [
  {
   "cell_type": "code",
   "execution_count": null,
   "metadata": {},
   "outputs": [],
   "source": [
    "import seaborn as sns\n",
    "import pandas as pd\n",
    "import matplotlib.pyplot as plt\n",
    "\n",
    "df = pd.read_csv('xgboostgrid_results.csv')\n",
    "df.head()"
   ]
  },
  {
   "cell_type": "code",
   "execution_count": null,
   "metadata": {},
   "outputs": [],
   "source": [
    "fig, axes = plt.subplots(1, 3, figsize=(18, 8))\n",
    "fig.suptitle('GridSearchCV (XGBoost Regression) Results')\n",
    "\n",
    "sns.set(style='darkgrid',)\n",
    "sns.lineplot(ax=axes[0], data=df, x='param_max_depth', y='mean_test_score', hue='param_eta', style='param_eta', errorbar=None, palette='bright').set(title='eta')\n",
    "sns.lineplot(ax=axes[1], data=df, x='param_max_depth', y='mean_test_score', hue='param_gamma', style='param_gamma', errorbar=None, palette='bright').set(title='gamma')\n",
    "sns.lineplot(ax=axes[2], data=df, x='param_max_depth', y='mean_test_score', hue='param_min_child_weight', style='param_min_child_weight', \n",
    "             errorbar=None, palette='bright').set(title='min_child_weight')\n",
    "\n",
    "for ax in axes.flat:\n",
    "    ax.set(ylabel=' ')\n",
    "axes[0].set(ylabel='R2')\n",
    "\n",
    "plt.tight_layout()\n",
    "plt.show()"
   ]
  },
  {
   "cell_type": "code",
   "execution_count": null,
   "metadata": {},
   "outputs": [],
   "source": [
    "fig, axes = plt.subplots(1, 3, figsize=(20, 6))\n",
    "fig.suptitle('Initial ML Models Time Performance')\n",
    "\n",
    "sns.set(style='darkgrid',)\n",
    "sns.lineplot(ax=axes[0], data=df, x='param_max_depth', y='mean_fit_time', hue='param_eta', style='param_eta', errorbar=None).set(title='eta')\n",
    "sns.lineplot(ax=axes[1], data=df, x='param_max_depth', y='mean_fit_time', hue='param_gamma', style='param_gamma', errorbar=None).set(title='gamma')\n",
    "sns.lineplot(ax=axes[2], data=df, x='param_max_depth', y='mean_fit_time', hue='param_min_child_weight', style='param_min_child_weight', \n",
    "             errorbar=None).set(title='min_child_weight')\n",
    "\n",
    "for ax in axes.flat:\n",
    "    ax.set(ylabel=' ')\n",
    "\n",
    "plt.tight_layout()\n",
    "plt.show()"
   ]
  },
  {
   "cell_type": "code",
   "execution_count": null,
   "metadata": {},
   "outputs": [],
   "source": [
    "sns.set(style='darkgrid',)\n",
    "sns.lineplot(data=df, x='param_max_depth', y='mean_fit_time', hue='param_eta', style='param_eta', errorbar=None).set(title='eta fitting time')"
   ]
  },
  {
   "cell_type": "code",
   "execution_count": null,
   "metadata": {},
   "outputs": [],
   "source": []
  }
 ],
 "metadata": {
  "kernelspec": {
   "display_name": "Python 3",
   "language": "python",
   "name": "python3"
  },
  "language_info": {
   "codemirror_mode": {
    "name": "ipython",
    "version": 3
   },
   "file_extension": ".py",
   "mimetype": "text/x-python",
   "name": "python",
   "nbconvert_exporter": "python",
   "pygments_lexer": "ipython3",
   "version": "3.11.0"
  },
  "orig_nbformat": 4
 },
 "nbformat": 4,
 "nbformat_minor": 2
}
