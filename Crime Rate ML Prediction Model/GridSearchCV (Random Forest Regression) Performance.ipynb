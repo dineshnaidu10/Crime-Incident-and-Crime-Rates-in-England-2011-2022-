{
 "cells": [
  {
   "cell_type": "code",
   "execution_count": null,
   "metadata": {},
   "outputs": [],
   "source": [
    "import seaborn as sns\n",
    "import pandas as pd\n",
    "import matplotlib.pyplot as plt\n",
    "\n",
    "df_1mil = pd.read_csv('rfgrid_results_sklearnex_1mil.csv')\n",
    "df_1mil.head()"
   ]
  },
  {
   "cell_type": "code",
   "execution_count": null,
   "metadata": {},
   "outputs": [],
   "source": [
    "fig, axes = plt.subplots(1, 3, figsize=(18, 8))\n",
    "fig.suptitle('GridSearchCV (Random Forest Regression) Results')\n",
    "\n",
    "sns.set(style='darkgrid',)\n",
    "sns.lineplot(ax=axes[0], data=df_1mil, x='param_max_depth', y='mean_test_score', hue='param_bootstrap', style='param_bootstrap', errorbar=None).set(title='bootstrap')\n",
    "sns.lineplot(ax=axes[1], data=df_1mil, x='param_max_depth', y='mean_test_score', hue='param_max_features', style='param_max_features', errorbar=None).set(title='max_features')\n",
    "sns.lineplot(ax=axes[2], data=df_1mil, x='param_max_depth', y='mean_test_score', hue='param_n_estimators', style='param_n_estimators', errorbar=None).set(title='n_estimators')\n",
    "\n",
    "for ax in axes.flat:\n",
    "    ax.set(ylabel=' ')\n",
    "axes[0].set(ylabel='R2')\n",
    "\n",
    "plt.tight_layout()\n",
    "plt.show()"
   ]
  },
  {
   "cell_type": "code",
   "execution_count": null,
   "metadata": {},
   "outputs": [],
   "source": [
    "fig, axes = plt.subplots(1, 3, figsize=(20, 6))\n",
    "fig.suptitle('Initial ML Models Time Performance')\n",
    "\n",
    "sns.set(style='darkgrid',)\n",
    "sns.lineplot(ax=axes[0], data=df_1mil, x='param_max_depth', y='mean_fit_time', hue='param_bootstrap', style='param_bootstrap', errorbar=None).set(title='bootstrap')\n",
    "sns.lineplot(ax=axes[1], data=df_1mil, x='param_max_depth', y='mean_fit_time', hue='param_max_features', style='param_max_features', errorbar=None).set(title='max_features')\n",
    "sns.lineplot(ax=axes[2], data=df_1mil, x='param_max_depth', y='mean_fit_time', hue='param_n_estimators', style='param_n_estimators', errorbar=None).set(title='n_estimators')\n",
    "\n",
    "for ax in axes.flat:\n",
    "    ax.set(ylabel=' ')\n",
    "\n",
    "plt.tight_layout()\n",
    "plt.show()"
   ]
  },
  {
   "cell_type": "code",
   "execution_count": null,
   "metadata": {},
   "outputs": [],
   "source": [
    "sns.set(style='darkgrid',)\n",
    "sns.lineplot(data=df_1mil, x='param_max_depth', y='mean_fit_time', hue='param_max_features', style='param_max_features', errorbar=None).set(title='max_features fitting time')"
   ]
  },
  {
   "cell_type": "code",
   "execution_count": null,
   "metadata": {},
   "outputs": [],
   "source": [
    "sns.set(style='darkgrid',)\n",
    "sns.lineplot(data=df_1mil, x='param_max_depth', y='mean_fit_time', hue='param_n_estimators', style='param_n_estimators', errorbar=None).set(title='n_estimators fitting time')"
   ]
  },
  {
   "cell_type": "code",
   "execution_count": null,
   "metadata": {},
   "outputs": [],
   "source": []
  }
 ],
 "metadata": {
  "kernelspec": {
   "display_name": "Python 3",
   "language": "python",
   "name": "python3"
  },
  "language_info": {
   "codemirror_mode": {
    "name": "ipython",
    "version": 3
   },
   "file_extension": ".py",
   "mimetype": "text/x-python",
   "name": "python",
   "nbconvert_exporter": "python",
   "pygments_lexer": "ipython3",
   "version": "3.11.0"
  },
  "orig_nbformat": 4
 },
 "nbformat": 4,
 "nbformat_minor": 2
}
