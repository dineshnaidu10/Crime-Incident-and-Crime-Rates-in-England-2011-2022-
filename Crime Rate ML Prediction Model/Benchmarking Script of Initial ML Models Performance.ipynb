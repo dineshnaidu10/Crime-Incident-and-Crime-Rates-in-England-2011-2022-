{
 "cells": [
  {
   "cell_type": "code",
   "execution_count": 1,
   "metadata": {},
   "outputs": [
    {
     "name": "stderr",
     "output_type": "stream",
     "text": [
      "Intel(R) Extension for Scikit-learn* enabled (https://github.com/intel/scikit-learn-intelex)\n"
     ]
    }
   ],
   "source": [
    "# Supress Warnings\n",
    "import warnings\n",
    "warnings.filterwarnings('ignore')\n",
    "\n",
    "# Data Science\n",
    "import pandas as pd\n",
    "import numpy as np\n",
    "\n",
    "# Machine Learning\n",
    "from sklearn.preprocessing import StandardScaler\n",
    "from sklearn.model_selection import train_test_split\n",
    "from sklearn.ensemble import RandomForestRegressor\n",
    "from sklearn.ensemble import ExtraTreesRegressor\n",
    "from sklearn.tree import DecisionTreeRegressor\n",
    "import xgboost as xgb\n",
    "from sklearn.linear_model import LinearRegression\n",
    "from sklearn.metrics import r2_score, mean_squared_error, mean_absolute_error\n",
    "\n",
    "# Others\n",
    "from tqdm import tqdm\n",
    "from timeit import default_timer as timer\n",
    "from sklearnex import patch_sklearn\n",
    "patch_sklearn()"
   ]
  },
  {
   "cell_type": "code",
   "execution_count": 2,
   "metadata": {},
   "outputs": [],
   "source": [
    "sample_size = [50000, 100000, 500000, 1000000, 2000000, 3000000, 4062364]\n",
    "\n",
    "gpu_dict = {'tree_method':'gpu_hist'}\n",
    "ml_list = [RandomForestRegressor(n_jobs=-1, max_depth=8),\n",
    "           ExtraTreesRegressor(n_jobs=-1, max_depth=8),\n",
    "           DecisionTreeRegressor(max_depth=8),\n",
    "           xgb.XGBRegressor(**gpu_dict, max_depth=8),\n",
    "           LinearRegression(n_jobs=-1)]\n",
    "\n",
    "results_dict = {'ML':[],\n",
    "                'Sample_size':[],\n",
    "                'Training_time':[],\n",
    "                'Testing_time':[],\n",
    "                'Training_score':[],\n",
    "                'Testing_score':[],\n",
    "                'RMSE':[],\n",
    "                'MAE':[]}"
   ]
  },
  {
   "cell_type": "code",
   "execution_count": 3,
   "metadata": {},
   "outputs": [
    {
     "name": "stderr",
     "output_type": "stream",
     "text": [
      "ML Loop: 100%|\u001b[34m██████████\u001b[0m| 5/5 [00:39<00:00,  7.84s/it]\n",
      "ML Loop: 100%|\u001b[34m██████████\u001b[0m| 5/5 [00:38<00:00,  7.76s/it]\n",
      "ML Loop: 100%|\u001b[34m██████████\u001b[0m| 5/5 [01:06<00:00, 13.30s/it]\n",
      "ML Loop: 100%|\u001b[34m██████████\u001b[0m| 5/5 [01:54<00:00, 22.97s/it]\n",
      "ML Loop: 100%|\u001b[34m██████████\u001b[0m| 5/5 [03:42<00:00, 44.52s/it]\n",
      "ML Loop: 100%|\u001b[34m██████████\u001b[0m| 5/5 [05:33<00:00, 66.73s/it]\n",
      "ML Loop: 100%|\u001b[34m██████████\u001b[0m| 5/5 [07:14<00:00, 86.82s/it]\n",
      "100%|\u001b[32m██████████\u001b[0m| 7/7 [20:49<00:00, 178.54s/it]\n"
     ]
    }
   ],
   "source": [
    "for s in tqdm(sample_size, colour='Green'):\n",
    "    for regressor in tqdm(ml_list, desc='ML Loop', colour='Blue'):\n",
    "\n",
    "        df = pd.read_csv('2011-2022_mergedcrimerate.csv')\n",
    "        df = df.drop(['Month', 'LSOA code', 'Count', 'AS Score', 'Inflation_rate', 'Indoors Score'], axis=1)\n",
    "        df = df.sample(s, random_state = 2)\n",
    "\n",
    "        X = df.drop(columns=['Crime Rate']).values\n",
    "        y = df['Crime Rate'].values\n",
    "        # Choose any random state\n",
    "        X_train, X_test, y_train, y_test = train_test_split(X, y, test_size=0.3,random_state=17)\n",
    "\n",
    "        sc = StandardScaler()\n",
    "        X_train = sc.fit_transform(X_train)\n",
    "        X_test = sc.transform(X_test)\n",
    "\n",
    "        start = timer()\n",
    "        regressor.fit(X_train, y_train)\n",
    "        end = timer()\n",
    "\n",
    "        results_dict['Training_time'].append(end-start)\n",
    "        results_dict['Sample_size'].append(s)\n",
    "        results_dict['ML'].append(str(regressor)[0:10])\n",
    "\n",
    "        insample_predictions = regressor.predict(X_train)\n",
    "        results_dict['Training_score'].append(r2_score(y_train,insample_predictions))\n",
    "\n",
    "        start = timer()\n",
    "        outsample_predictions = regressor.predict(X_test)\n",
    "        end = timer()\n",
    "        results_dict['Testing_time'].append(end-start)\n",
    "        \n",
    "        results_dict['Testing_score'].append(r2_score(y_test,outsample_predictions))\n",
    "        results_dict['RMSE'].append(np.sqrt(mean_squared_error(y_test,outsample_predictions)))\n",
    "        results_dict['MAE'].append(mean_absolute_error(y_test,outsample_predictions))\n",
    "\n",
    "        del df, X, y, X_train, X_test, y_train, y_test, start, end, regressor, insample_predictions, outsample_predictions"
   ]
  },
  {
   "cell_type": "code",
   "execution_count": 4,
   "metadata": {},
   "outputs": [],
   "source": [
    "results_df = pd.DataFrame.from_dict(results_dict)\n",
    "results_df.to_csv('Benchmark_results_allmlmodels_v2.csv', index=False)"
   ]
  }
 ],
 "metadata": {
  "kernelspec": {
   "display_name": "Python 3",
   "language": "python",
   "name": "python3"
  },
  "language_info": {
   "codemirror_mode": {
    "name": "ipython",
    "version": 3
   },
   "file_extension": ".py",
   "mimetype": "text/x-python",
   "name": "python",
   "nbconvert_exporter": "python",
   "pygments_lexer": "ipython3",
   "version": "3.11.0"
  },
  "orig_nbformat": 4
 },
 "nbformat": 4,
 "nbformat_minor": 2
}
