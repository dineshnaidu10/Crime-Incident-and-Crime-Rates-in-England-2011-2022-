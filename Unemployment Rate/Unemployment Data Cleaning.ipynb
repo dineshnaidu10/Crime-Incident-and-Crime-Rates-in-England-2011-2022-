{
 "cells": [
  {
   "cell_type": "code",
   "execution_count": 1,
   "metadata": {},
   "outputs": [],
   "source": [
    "#Import required library\n",
    "import pandas as pd"
   ]
  },
  {
   "cell_type": "code",
   "execution_count": 2,
   "metadata": {},
   "outputs": [],
   "source": [
    "#Load downloaded dataset into a Pandas DataFrame\n",
    "df_unemployment = pd.read_excel('unemployment_rate.xls')"
   ]
  },
  {
   "cell_type": "code",
   "execution_count": 3,
   "metadata": {},
   "outputs": [],
   "source": [
    "#Create 2 dictionary and list for month and year respectively for iteration purposes\n",
    "month_dict = {'JAN':'01', 'FEB':'02', 'MAR':'03', 'APR':'04', 'MAY':'05', 'JUN':'06', 'JUL':'07',\n",
    "                'AUG':'08', 'SEP':'09', 'OCT':'10', 'NOV':'11', 'DEC':'12'}\n",
    "year_list = ['2011', '2012', '2013', '2014', '2015', '2016', '2017', '2018', '2019','2020', '2021', '2022']"
   ]
  },
  {
   "cell_type": "code",
   "execution_count": 4,
   "metadata": {},
   "outputs": [
    {
     "data": {
      "text/html": [
       "<div>\n",
       "<style scoped>\n",
       "    .dataframe tbody tr th:only-of-type {\n",
       "        vertical-align: middle;\n",
       "    }\n",
       "\n",
       "    .dataframe tbody tr th {\n",
       "        vertical-align: top;\n",
       "    }\n",
       "\n",
       "    .dataframe thead th {\n",
       "        text-align: right;\n",
       "    }\n",
       "</style>\n",
       "<table border=\"1\" class=\"dataframe\">\n",
       "  <thead>\n",
       "    <tr style=\"text-align: right;\">\n",
       "      <th></th>\n",
       "      <th>Month</th>\n",
       "      <th>unemployment_rate</th>\n",
       "    </tr>\n",
       "  </thead>\n",
       "  <tbody>\n",
       "    <tr>\n",
       "      <th>0</th>\n",
       "      <td>1971</td>\n",
       "      <td>4.1</td>\n",
       "    </tr>\n",
       "    <tr>\n",
       "      <th>1</th>\n",
       "      <td>1972</td>\n",
       "      <td>4.3</td>\n",
       "    </tr>\n",
       "    <tr>\n",
       "      <th>2</th>\n",
       "      <td>1973</td>\n",
       "      <td>3.7</td>\n",
       "    </tr>\n",
       "    <tr>\n",
       "      <th>3</th>\n",
       "      <td>1974</td>\n",
       "      <td>3.7</td>\n",
       "    </tr>\n",
       "    <tr>\n",
       "      <th>4</th>\n",
       "      <td>1975</td>\n",
       "      <td>4.5</td>\n",
       "    </tr>\n",
       "  </tbody>\n",
       "</table>\n",
       "</div>"
      ],
      "text/plain": [
       "  Month unemployment_rate\n",
       "0  1971               4.1\n",
       "1  1972               4.3\n",
       "2  1973               3.7\n",
       "3  1974               3.7\n",
       "4  1975               4.5"
      ]
     },
     "execution_count": 4,
     "metadata": {},
     "output_type": "execute_result"
    }
   ],
   "source": [
    "#Remove unwanted rows, and rename column names\n",
    "df_unemployment = df_unemployment[7:]\n",
    "df_unemployment.reset_index(inplace=True, drop=True)\n",
    "df_unemployment.columns = ['Month', 'unemployment_rate']\n",
    "df_unemployment.head()"
   ]
  },
  {
   "cell_type": "code",
   "execution_count": 5,
   "metadata": {},
   "outputs": [],
   "source": [
    "#Loop through Dataframe and save months and corresponding \n",
    "#unemployment rates in Python lists. \n",
    "\n",
    "month_list = []\n",
    "unemployment_list = []\n",
    "\n",
    "for i in df_unemployment.values:\n",
    "    i = list(i)\n",
    "    a = i[0]\n",
    "    year = a[0:4]\n",
    "    month = a[5:]\n",
    "    if (year in year_list) and (month in month_dict):\n",
    "        month_list.append(year + '-' + month_dict[month])\n",
    "        unemployment_list.append(i[1])"
   ]
  },
  {
   "cell_type": "code",
   "execution_count": 6,
   "metadata": {},
   "outputs": [],
   "source": [
    "#Use the month and unemployment rates Python lists from previous step \n",
    "#to create a new Pandas DataFrame\n",
    "df_unemployment = pd.DataFrame()\n",
    "df_unemployment['Month'] = month_list\n",
    "df_unemployment['unemployment_rate'] = unemployment_list"
   ]
  },
  {
   "cell_type": "code",
   "execution_count": 8,
   "metadata": {},
   "outputs": [],
   "source": [
    "#Export DataFrame to a .csv file\n",
    "df_unemployment.to_csv('2011-2022_unemployment.csv', index=False)"
   ]
  },
  {
   "cell_type": "code",
   "execution_count": null,
   "metadata": {},
   "outputs": [],
   "source": []
  }
 ],
 "metadata": {
  "kernelspec": {
   "display_name": "Python 3",
   "language": "python",
   "name": "python3"
  },
  "language_info": {
   "codemirror_mode": {
    "name": "ipython",
    "version": 3
   },
   "file_extension": ".py",
   "mimetype": "text/x-python",
   "name": "python",
   "nbconvert_exporter": "python",
   "pygments_lexer": "ipython3",
   "version": "3.11.0 (main, Oct 24 2022, 18:26:48) [MSC v.1933 64 bit (AMD64)]"
  },
  "orig_nbformat": 4,
  "vscode": {
   "interpreter": {
    "hash": "8739e4b358eae07c3281d9c8f6f7d7251326c4bd9bea69a29571a5fa3f04719e"
   }
  }
 },
 "nbformat": 4,
 "nbformat_minor": 2
}
