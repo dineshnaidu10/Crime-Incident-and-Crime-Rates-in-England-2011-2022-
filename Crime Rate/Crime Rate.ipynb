{
 "cells": [
  {
   "cell_type": "code",
   "execution_count": 1,
   "metadata": {},
   "outputs": [],
   "source": [
    "#Import Required Libraries\n",
    "import pandas as pd\n",
    "from tqdm import tqdm"
   ]
  },
  {
   "cell_type": "code",
   "execution_count": 2,
   "metadata": {},
   "outputs": [],
   "source": [
    "#Load required datasets into Pandas DataFrame\n",
    "df_crimecount = pd.read_csv('2011-2022_crimecount.csv')\n",
    "df_popdensity = pd.read_csv('2011-2022_popdensity.csv')"
   ]
  },
  {
   "cell_type": "code",
   "execution_count": 3,
   "metadata": {},
   "outputs": [],
   "source": [
    "#Merge both DataFrames\n",
    "df_crimerate = pd.merge(df_crimecount, df_popdensity, on=['Month', 'LSOA code'], how='left')"
   ]
  },
  {
   "cell_type": "code",
   "execution_count": 5,
   "metadata": {},
   "outputs": [
    {
     "name": "stderr",
     "output_type": "stream",
     "text": [
      "Crime Rate Calculation: 100%|\u001b[32m██████████\u001b[0m| 4104980/4104980 [00:29<00:00, 141411.01it/s]\n"
     ]
    }
   ],
   "source": [
    "#Derive crime rates for each row of the DataFrame\n",
    "tqdm.pandas(desc='Crime Rate Calculation', colour='Green')\n",
    "df_crimerate['Crime Rate'] = df_crimerate.progress_apply(lambda row: round((row.Count / row.Population)*1500, 1), axis=1)"
   ]
  },
  {
   "cell_type": "code",
   "execution_count": 8,
   "metadata": {},
   "outputs": [],
   "source": [
    "#Export DataFrame in a .csv file\n",
    "df_crimerate.to_csv('2011-2022_crimerate.csv', index=False)"
   ]
  },
  {
   "cell_type": "code",
   "execution_count": null,
   "metadata": {},
   "outputs": [],
   "source": []
  }
 ],
 "metadata": {
  "kernelspec": {
   "display_name": "Python 3",
   "language": "python",
   "name": "python3"
  },
  "language_info": {
   "codemirror_mode": {
    "name": "ipython",
    "version": 3
   },
   "file_extension": ".py",
   "mimetype": "text/x-python",
   "name": "python",
   "nbconvert_exporter": "python",
   "pygments_lexer": "ipython3",
   "version": "3.11.0 (main, Oct 24 2022, 18:26:48) [MSC v.1933 64 bit (AMD64)]"
  },
  "orig_nbformat": 4,
  "vscode": {
   "interpreter": {
    "hash": "8739e4b358eae07c3281d9c8f6f7d7251326c4bd9bea69a29571a5fa3f04719e"
   }
  }
 },
 "nbformat": 4,
 "nbformat_minor": 2
}
