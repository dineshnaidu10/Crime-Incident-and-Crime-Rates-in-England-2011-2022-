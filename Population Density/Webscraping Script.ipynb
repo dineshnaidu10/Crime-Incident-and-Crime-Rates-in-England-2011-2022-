{
 "cells": [
  {
   "cell_type": "code",
   "execution_count": 3,
   "metadata": {},
   "outputs": [],
   "source": [
    "#Import all required libraries\n",
    "#Define domain, url and fileformats in variables\n",
    "#Define a function to return raw html files from given url  \n",
    "\n",
    "from bs4 import BeautifulSoup as bs\n",
    "from tqdm.notebook import tqdm_notebook\n",
    "import requests\n",
    "\n",
    "DOMAIN = 'https://www.ons.gov.uk'\n",
    "URL = '''https://www.ons.gov.uk/peoplepopulationandcommunity/populationandmigration/populationestimates/\n",
    "        datasets/lowersuperoutputareapopulationdensity'''\n",
    "FILETYPE1 = '.xlsx'\n",
    "FILETYPE2 = '.zip'\n",
    "key = ['2020', '2019', '2018', '2017', '2016', '2015', '2014', '2013', '2012', '2011']\n",
    "\n",
    "def get_soup(url):\n",
    "    return bs(requests.get(url).text, 'html.parser')"
   ]
  },
  {
   "cell_type": "code",
   "execution_count": 4,
   "metadata": {},
   "outputs": [
    {
     "data": {
      "application/vnd.jupyter.widget-view+json": {
       "model_id": "287d5e062aed4efcaeff1000584acb2b",
       "version_major": 2,
       "version_minor": 0
      },
      "text/plain": [
       "  0%|          | 0/95 [00:00<?, ?it/s]"
      ]
     },
     "metadata": {},
     "output_type": "display_data"
    },
    {
     "name": "stdout",
     "output_type": "stream",
     "text": [
      "/file?uri=/peoplepopulationandcommunity/populationandmigration/populationestimates/datasets/lowersuperoutputareapopulationdensity/mid2020sape23dt11/sape23dt11mid2020lsoapopulationdensity.xlsx\n",
      "/file?uri=/peoplepopulationandcommunity/populationandmigration/populationestimates/datasets/lowersuperoutputareapopulationdensity/mid2019sape22dt11/sape22dt11mid2019lsoapopulationdensity.zip\n",
      "/file?uri=/peoplepopulationandcommunity/populationandmigration/populationestimates/datasets/lowersuperoutputareapopulationdensity/mid2018sape21dt11/sape21dt11mid2018lsoapopulationdensity.zip\n",
      "/file?uri=/peoplepopulationandcommunity/populationandmigration/populationestimates/datasets/lowersuperoutputareapopulationdensity/mid2017/sape20dt11mid2017lsoapopulationdensity.zip\n",
      "/file?uri=/peoplepopulationandcommunity/populationandmigration/populationestimates/datasets/lowersuperoutputareapopulationdensity/mid2016/sape20dt11mid2016lsoapopulationdensity.zip\n",
      "/file?uri=/peoplepopulationandcommunity/populationandmigration/populationestimates/datasets/lowersuperoutputareapopulationdensity/mid2016sape19dt11/sape19dt11mid2016lsoapopulationdensity.zip\n",
      "/file?uri=/peoplepopulationandcommunity/populationandmigration/populationestimates/datasets/lowersuperoutputareapopulationdensity/mid2015/sape20dt11mid2015lsoapopulationdensity.zip\n",
      "/file?uri=/peoplepopulationandcommunity/populationandmigration/populationestimates/datasets/lowersuperoutputareapopulationdensity/mid2015sape18dt11/sape18dt11mid2015lsoapopulationdensity.zip\n",
      "/file?uri=/peoplepopulationandcommunity/populationandmigration/populationestimates/datasets/lowersuperoutputareapopulationdensity/mid2014/sape20dt11mid2014lsoapopulationdensity.zip\n",
      "/file?uri=/peoplepopulationandcommunity/populationandmigration/populationestimates/datasets/lowersuperoutputareapopulationdensity/mid2013/sape20dt11mid2013lsoapopulationdensity.zip\n",
      "/file?uri=/peoplepopulationandcommunity/populationandmigration/populationestimates/datasets/lowersuperoutputareapopulationdensity/mid2012/sape20dt11mid2012lsoapopulationdensity.zip\n",
      "/file?uri=/peoplepopulationandcommunity/populationandmigration/populationestimates/datasets/lowersuperoutputareapopulationdensity/mid2011/rftmid2011soadensitytables.zip\n"
     ]
    }
   ],
   "source": [
    "#Loop to parse through the html tags and get file download links based on set fileformat in a variable\n",
    "#Issue GET request to the matching file and write it as a file (Download the file)\n",
    "\n",
    "for link in tqdm_notebook(get_soup(URL).find_all('a')):\n",
    "    file_link = link.get('href')\n",
    "    if ((FILETYPE1 in file_link) and (any(i in file_link for i in key))) or ((FILETYPE2 in file_link) \n",
    "    and (any(i in file_link for i in key))):\n",
    "        print(file_link)\n",
    "        filename = file_link[(file_link.rfind('/')) + 1:]\n",
    "        with open(filename, 'wb') as file:\n",
    "            response = requests.get(DOMAIN + file_link)\n",
    "            file.write(response.content)"
   ]
  },
  {
   "cell_type": "code",
   "execution_count": null,
   "metadata": {},
   "outputs": [],
   "source": []
  }
 ],
 "metadata": {
  "kernelspec": {
   "display_name": "Python 3",
   "language": "python",
   "name": "python3"
  },
  "language_info": {
   "codemirror_mode": {
    "name": "ipython",
    "version": 3
   },
   "file_extension": ".py",
   "mimetype": "text/x-python",
   "name": "python",
   "nbconvert_exporter": "python",
   "pygments_lexer": "ipython3",
   "version": "3.11.0 (main, Oct 24 2022, 18:26:48) [MSC v.1933 64 bit (AMD64)]"
  },
  "orig_nbformat": 4,
  "vscode": {
   "interpreter": {
    "hash": "8739e4b358eae07c3281d9c8f6f7d7251326c4bd9bea69a29571a5fa3f04719e"
   }
  }
 },
 "nbformat": 4,
 "nbformat_minor": 2
}
