{
 "cells": [
  {
   "cell_type": "code",
   "execution_count": 15,
   "metadata": {},
   "outputs": [
    {
     "data": {
      "text/plain": [
       "['2020-2022_popdensity.csv',\n",
       " 'fileextract.ipynb',\n",
       " 'mid-2011-lsoa-pop-density.xls',\n",
       " 'popdensity_etl.ipynb',\n",
       " 'rftmid2011soadensitytables.zip',\n",
       " 'SAPE20DT11-mid-2012-lsoa-population-density.xls',\n",
       " 'SAPE20DT11-mid-2013-lsoa-population-density.xls',\n",
       " 'SAPE20DT11-mid-2014-lsoa-population-density.xls',\n",
       " 'SAPE20DT11-mid-2015-lsoa-population-density.xls',\n",
       " 'SAPE20DT11-mid-2016-lsoa-population-density.xls',\n",
       " 'SAPE20DT11-mid-2017-lsoa-population-density.xls',\n",
       " 'sape20dt11mid2012lsoapopulationdensity.zip',\n",
       " 'sape20dt11mid2013lsoapopulationdensity.zip',\n",
       " 'sape20dt11mid2014lsoapopulationdensity.zip',\n",
       " 'sape20dt11mid2015lsoapopulationdensity.zip',\n",
       " 'sape20dt11mid2016lsoapopulationdensity.zip',\n",
       " 'sape20dt11mid2017lsoapopulationdensity.zip',\n",
       " 'SAPE21DT11-mid-2018-lsoa-population-density.xlsx',\n",
       " 'sape21dt11mid2018lsoapopulationdensity.zip',\n",
       " 'SAPE22DT11-mid-2019-lsoa-population-density.xlsx',\n",
       " 'sape22dt11mid2019lsoapopulationdensity',\n",
       " 'sape22dt11mid2019lsoapopulationdensity.zip',\n",
       " 'sape23dt11mid2020lsoapopulationdensity.xlsx']"
      ]
     },
     "execution_count": 15,
     "metadata": {},
     "output_type": "execute_result"
    }
   ],
   "source": [
    "#Import all required libraries and list the files in the current directory\n",
    "\n",
    "import os\n",
    "import pandas as pd\n",
    "from tqdm import tqdm\n",
    "import time\n",
    "\n",
    "data_files = os.listdir()\n",
    "data_files"
   ]
  },
  {
   "cell_type": "code",
   "execution_count": 16,
   "metadata": {},
   "outputs": [],
   "source": [
    "#Population density data 2020\n",
    "df_density_2020 = pd.DataFrame()\n",
    "\n",
    "df = pd.read_excel('sape23dt11mid2020lsoapopulationdensity.xlsx', sheet_name=3)\n",
    "df = df[3:]\n",
    "df.reset_index(inplace=True, drop=True)\n",
    "df.columns = df.iloc[0]\n",
    "df = df[1:]\n",
    "df.reset_index(inplace=True, drop=True)\n",
    "df.rename(columns={df.columns[0]:'LSOA code'}, inplace=True)\n",
    "df.rename(columns={df.columns[2]:'Population'}, inplace=True)\n",
    "df.rename(columns={df.columns[4]:'Pop_density'}, inplace=True)\n",
    "df = df[['LSOA code', 'Population', 'Pop_density']]\n",
    "df_density_2020 = pd.concat([df_density_2020, df])\n",
    "df = pd.DataFrame()"
   ]
  },
  {
   "cell_type": "code",
   "execution_count": 17,
   "metadata": {},
   "outputs": [],
   "source": [
    "#Create lists of required years and months to iterate through\n",
    "year_list_2020 = ['2020', '2021']\n",
    "year_list_2022 = ['2022']\n",
    "month_list = ['01', '02', '03', '04', '05', '06', '07', '08', '09', '10', '11', '12']\n",
    "month_list_2022 = ['01', '02', '03', '04', '05', '06', '07', '08', '09']"
   ]
  },
  {
   "cell_type": "code",
   "execution_count": 18,
   "metadata": {},
   "outputs": [
    {
     "name": "stderr",
     "output_type": "stream",
     "text": [
      "Loop 1: 100%|██████████| 2/2 [00:00<00:00, 32.18it/s]\n",
      "Loop 2: 100%|██████████| 1/1 [00:00<00:00, 41.28it/s]\n"
     ]
    }
   ],
   "source": [
    "#Extend all data from 2020-2022\n",
    "df_2020_list = []\n",
    "\n",
    "for year in tqdm(year_list_2020, desc='Loop 1'):\n",
    "    for month in month_list:\n",
    "        df_density_2020['Month'] = year + '-' + month\n",
    "        df_2020_list.append(df_density_2020)\n",
    "        df_density_2020 = df_density_2020[['LSOA code', 'Population', 'Pop_density']]\n",
    "        \n",
    "for year in tqdm(year_list_2022, desc='Loop 2'):\n",
    "    for month in month_list_2022:\n",
    "        df_density_2020['Month'] = year + '-' + month\n",
    "        df_2020_list.append(df_density_2020)\n",
    "        df_density_2020 = df_density_2020[['LSOA code', 'Population', 'Pop_density']]\n",
    "\n",
    "df_density_2020_2022 = pd.DataFrame()\n",
    "df_density_2020_2022 = pd.concat(df_2020_list)\n",
    "df_density_2020_2022 = df_density_2020_2022[['LSOA code', 'Month', 'Population', 'Pop_density']]"
   ]
  },
  {
   "cell_type": "code",
   "execution_count": 19,
   "metadata": {},
   "outputs": [],
   "source": [
    "#Population density data 2011\n",
    "df_density_2011 = pd.read_excel('mid-2011-lsoa-pop-density.xls', sheet_name=1)\n",
    "df_density_2011.rename(columns={df_density_2011.columns[0]:'LSOA code'}, inplace=True)\n",
    "df_density_2011.rename(columns={df_density_2011.columns[2]:'Population'}, inplace=True)\n",
    "df_density_2011.rename(columns={df_density_2011.columns[3]:'Pop_density'}, inplace=True)\n",
    "df_density_2011 = df_density_2011[['LSOA code', 'Population', 'Pop_density']]\n",
    "\n",
    "df_2011_list = []\n",
    "\n",
    "for month in month_list:\n",
    "    df_density_2011['Month'] = '2011' + '-' + month\n",
    "    df_2011_list.append(df_density_2011)\n",
    "    df_density_2011 = df_density_2011[['LSOA code', 'Population', 'Pop_density']]\n",
    "        \n",
    "df_density_2011 = pd.DataFrame()\n",
    "df_density_2011 = pd.concat(df_2011_list)\n",
    "df_density_2011 = df_density_2011[['LSOA code', 'Month', 'Population', 'Pop_density']]"
   ]
  },
  {
   "cell_type": "code",
   "execution_count": 20,
   "metadata": {},
   "outputs": [],
   "source": [
    "#Population density data 2012\n",
    "df_density_2012 = pd.read_excel('SAPE20DT11-mid-2012-lsoa-population-density.xls', sheet_name=3)\n",
    "df_density_2012 = df_density_2012[3:]\n",
    "df_density_2012.reset_index(inplace=True, drop=True)\n",
    "df_density_2012.columns = df_density_2012.iloc[0]\n",
    "df_density_2012 = df_density_2012[1:]\n",
    "df_density_2012.reset_index(inplace=True, drop=True)\n",
    "df_density_2012.rename(columns={df_density_2012.columns[0]:'LSOA code'}, inplace=True)\n",
    "df_density_2012.rename(columns={df_density_2012.columns[2]:'Population'}, inplace=True)\n",
    "df_density_2012.rename(columns={df_density_2012.columns[4]:'Pop_density'}, inplace=True)\n",
    "df_density_2012 = df_density_2012[['LSOA code', 'Population', 'Pop_density']]\n",
    "\n",
    "df_2012_list = []\n",
    "\n",
    "for month in month_list:\n",
    "    df_density_2012['Month'] = '2012' + '-' + month\n",
    "    df_2012_list.append(df_density_2012)\n",
    "    df_density_2012 = df_density_2012[['LSOA code', 'Population', 'Pop_density']]\n",
    "        \n",
    "df_density_2012 = pd.DataFrame()\n",
    "df_density_2012 = pd.concat(df_2012_list)\n",
    "df_density_2012 = df_density_2012[['LSOA code', 'Month', 'Population', 'Pop_density']]"
   ]
  },
  {
   "cell_type": "code",
   "execution_count": 21,
   "metadata": {},
   "outputs": [],
   "source": [
    "#Population density data 2013\n",
    "df_density_2013 = pd.read_excel('SAPE20DT11-mid-2013-lsoa-population-density.xls', sheet_name=3)\n",
    "df_density_2013 = df_density_2013[3:]\n",
    "df_density_2013.reset_index(inplace=True, drop=True)\n",
    "df_density_2013.columns = df_density_2013.iloc[0]\n",
    "df_density_2013 = df_density_2013[1:]\n",
    "df_density_2013.reset_index(inplace=True, drop=True)\n",
    "df_density_2013.rename(columns={df_density_2013.columns[0]:'LSOA code'}, inplace=True)\n",
    "df_density_2013.rename(columns={df_density_2013.columns[2]:'Population'}, inplace=True)\n",
    "df_density_2013.rename(columns={df_density_2013.columns[4]:'Pop_density'}, inplace=True)\n",
    "df_density_2013 = df_density_2013[['LSOA code', 'Population', 'Pop_density']]\n",
    "\n",
    "df_2013_list = []\n",
    "\n",
    "for month in month_list:\n",
    "    df_density_2013['Month'] = '2013' + '-' + month\n",
    "    df_2013_list.append(df_density_2013)\n",
    "    df_density_2013 = df_density_2013[['LSOA code', 'Population', 'Pop_density']]\n",
    "        \n",
    "df_density_2013 = pd.DataFrame()\n",
    "df_density_2013 = pd.concat(df_2013_list)\n",
    "df_density_2013 = df_density_2013[['LSOA code', 'Month', 'Population', 'Pop_density']]"
   ]
  },
  {
   "cell_type": "code",
   "execution_count": 22,
   "metadata": {},
   "outputs": [],
   "source": [
    "#Population density data 2014\n",
    "df_density_2014 = pd.read_excel('SAPE20DT11-mid-2014-lsoa-population-density.xls', sheet_name=3)\n",
    "df_density_2014 = df_density_2014[3:]\n",
    "df_density_2014.reset_index(inplace=True, drop=True)\n",
    "df_density_2014.columns = df_density_2014.iloc[0]\n",
    "df_density_2014 = df_density_2014[1:]\n",
    "df_density_2014.reset_index(inplace=True, drop=True)\n",
    "df_density_2014.rename(columns={df_density_2014.columns[0]:'LSOA code'}, inplace=True)\n",
    "df_density_2014.rename(columns={df_density_2014.columns[2]:'Population'}, inplace=True)\n",
    "df_density_2014.rename(columns={df_density_2014.columns[4]:'Pop_density'}, inplace=True)\n",
    "df_density_2014 = df_density_2014[['LSOA code', 'Population', 'Pop_density']]\n",
    "\n",
    "df_2014_list = []\n",
    "\n",
    "for month in month_list:\n",
    "    df_density_2014['Month'] = '2014' + '-' + month\n",
    "    df_2014_list.append(df_density_2014)\n",
    "    df_density_2014 = df_density_2014[['LSOA code', 'Population', 'Pop_density']]\n",
    "        \n",
    "df_density_2014 = pd.DataFrame()\n",
    "df_density_2014 = pd.concat(df_2014_list)\n",
    "df_density_2014 = df_density_2014[['LSOA code', 'Month', 'Population', 'Pop_density']]"
   ]
  },
  {
   "cell_type": "code",
   "execution_count": 23,
   "metadata": {},
   "outputs": [],
   "source": [
    "#Population density data 2015\n",
    "df_density_2015 = pd.read_excel('SAPE20DT11-mid-2015-lsoa-population-density.xls', sheet_name=3)\n",
    "df_density_2015 = df_density_2015[3:]\n",
    "df_density_2015.reset_index(inplace=True, drop=True)\n",
    "df_density_2015.columns = df_density_2015.iloc[0]\n",
    "df_density_2015 = df_density_2015[1:]\n",
    "df_density_2015.reset_index(inplace=True, drop=True)\n",
    "df_density_2015.rename(columns={df_density_2015.columns[0]:'LSOA code'}, inplace=True)\n",
    "df_density_2015.rename(columns={df_density_2015.columns[2]:'Population'}, inplace=True)\n",
    "df_density_2015.rename(columns={df_density_2015.columns[4]:'Pop_density'}, inplace=True)\n",
    "df_density_2015 = df_density_2015[['LSOA code', 'Population', 'Pop_density']]\n",
    "\n",
    "df_2015_list = []\n",
    "\n",
    "for month in month_list:\n",
    "    df_density_2015['Month'] = '2015' + '-' + month\n",
    "    df_2015_list.append(df_density_2015)\n",
    "    df_density_2015 = df_density_2015[['LSOA code', 'Population', 'Pop_density']]\n",
    "        \n",
    "df_density_2015 = pd.DataFrame()\n",
    "df_density_2015 = pd.concat(df_2015_list)\n",
    "df_density_2015 = df_density_2015[['LSOA code', 'Month', 'Population', 'Pop_density']]"
   ]
  },
  {
   "cell_type": "code",
   "execution_count": 24,
   "metadata": {},
   "outputs": [],
   "source": [
    "#Population density data 2016\n",
    "df_density_2016 = pd.read_excel('SAPE20DT11-mid-2016-lsoa-population-density.xls', sheet_name=3)\n",
    "df_density_2016 = df_density_2016[3:]\n",
    "df_density_2016.reset_index(inplace=True, drop=True)\n",
    "df_density_2016.columns = df_density_2016.iloc[0]\n",
    "df_density_2016 = df_density_2016[1:]\n",
    "df_density_2016.reset_index(inplace=True, drop=True)\n",
    "df_density_2016.rename(columns={df_density_2016.columns[0]:'LSOA code'}, inplace=True)\n",
    "df_density_2016.rename(columns={df_density_2016.columns[2]:'Population'}, inplace=True)\n",
    "df_density_2016.rename(columns={df_density_2016.columns[4]:'Pop_density'}, inplace=True)\n",
    "df_density_2016 = df_density_2016[['LSOA code', 'Population', 'Pop_density']]\n",
    "\n",
    "df_2016_list = []\n",
    "\n",
    "for month in month_list:\n",
    "    df_density_2016['Month'] = '2016' + '-' + month\n",
    "    df_2016_list.append(df_density_2016)\n",
    "    df_density_2016 = df_density_2016[['LSOA code', 'Population', 'Pop_density']]\n",
    "        \n",
    "df_density_2016 = pd.DataFrame()\n",
    "df_density_2016 = pd.concat(df_2016_list)\n",
    "df_density_2016 = df_density_2016[['LSOA code', 'Month', 'Population', 'Pop_density']]"
   ]
  },
  {
   "cell_type": "code",
   "execution_count": 25,
   "metadata": {},
   "outputs": [],
   "source": [
    "#Population density data 2017\n",
    "df_density_2017 = pd.read_excel('SAPE20DT11-mid-2017-lsoa-population-density.xls', sheet_name=3)\n",
    "df_density_2017 = df_density_2017[3:]\n",
    "df_density_2017.reset_index(inplace=True, drop=True)\n",
    "df_density_2017.columns = df_density_2017.iloc[0]\n",
    "df_density_2017 = df_density_2017[1:]\n",
    "df_density_2017.reset_index(inplace=True, drop=True)\n",
    "df_density_2017.rename(columns={df_density_2017.columns[0]:'LSOA code'}, inplace=True)\n",
    "df_density_2017.rename(columns={df_density_2017.columns[2]:'Population'}, inplace=True)\n",
    "df_density_2017.rename(columns={df_density_2017.columns[4]:'Pop_density'}, inplace=True)\n",
    "df_density_2017 = df_density_2017[['LSOA code', 'Population', 'Pop_density']]\n",
    "\n",
    "df_2017_list = []\n",
    "\n",
    "for month in month_list:\n",
    "    df_density_2017['Month'] = '2017' + '-' + month\n",
    "    df_2017_list.append(df_density_2017)\n",
    "    df_density_2017 = df_density_2017[['LSOA code', 'Population', 'Pop_density']]\n",
    "        \n",
    "df_density_2017 = pd.DataFrame()\n",
    "df_density_2017 = pd.concat(df_2017_list)\n",
    "df_density_2017 = df_density_2017[['LSOA code', 'Month', 'Population', 'Pop_density']]"
   ]
  },
  {
   "cell_type": "code",
   "execution_count": 26,
   "metadata": {},
   "outputs": [],
   "source": [
    "#Population density data 2018\n",
    "df_density_2018 = pd.read_excel('SAPE21DT11-mid-2018-lsoa-population-density.xlsx', sheet_name=3)\n",
    "df_density_2018 = df_density_2018[3:]\n",
    "df_density_2018.reset_index(inplace=True, drop=True)\n",
    "df_density_2018.columns = df_density_2018.iloc[0]\n",
    "df_density_2018 = df_density_2018[1:]\n",
    "df_density_2018.reset_index(inplace=True, drop=True)\n",
    "df_density_2018.rename(columns={df_density_2018.columns[0]:'LSOA code'}, inplace=True)\n",
    "df_density_2018.rename(columns={df_density_2018.columns[2]:'Population'}, inplace=True)\n",
    "df_density_2018.rename(columns={df_density_2018.columns[4]:'Pop_density'}, inplace=True)\n",
    "df_density_2018 = df_density_2018[['LSOA code', 'Population', 'Pop_density']]\n",
    "\n",
    "df_2018_list = []\n",
    "\n",
    "for month in month_list:\n",
    "    df_density_2018['Month'] = '2018' + '-' + month\n",
    "    df_2018_list.append(df_density_2018)\n",
    "    df_density_2018 = df_density_2018[['LSOA code', 'Population', 'Pop_density']]\n",
    "        \n",
    "df_density_2018 = pd.DataFrame()\n",
    "df_density_2018 = pd.concat(df_2018_list)\n",
    "df_density_2018 = df_density_2018[['LSOA code', 'Month', 'Population', 'Pop_density']]"
   ]
  },
  {
   "cell_type": "code",
   "execution_count": 27,
   "metadata": {},
   "outputs": [],
   "source": [
    "#Population density data 2019\n",
    "df_density_2019 = pd.read_excel('SAPE22DT11-mid-2019-lsoa-population-density.xlsx', sheet_name=3)\n",
    "df_density_2019 = df_density_2019[3:]\n",
    "df_density_2019.reset_index(inplace=True, drop=True)\n",
    "df_density_2019.columns = df_density_2019.iloc[0]\n",
    "df_density_2019 = df_density_2019[1:]\n",
    "df_density_2019.reset_index(inplace=True, drop=True)\n",
    "df_density_2019.rename(columns={df_density_2019.columns[0]:'LSOA code'}, inplace=True)\n",
    "df_density_2019.rename(columns={df_density_2019.columns[2]:'Population'}, inplace=True)\n",
    "df_density_2019.rename(columns={df_density_2019.columns[4]:'Pop_density'}, inplace=True)\n",
    "df_density_2019 = df_density_2019[['LSOA code', 'Population', 'Pop_density']]\n",
    "\n",
    "df_2019_list = []\n",
    "\n",
    "for month in month_list:\n",
    "    df_density_2019['Month'] = '2019' + '-' + month\n",
    "    df_2019_list.append(df_density_2019)\n",
    "    df_density_2019 = df_density_2019[['LSOA code', 'Population', 'Pop_density']]\n",
    "        \n",
    "df_density_2019 = pd.DataFrame()\n",
    "df_density_2019 = pd.concat(df_2019_list)\n",
    "df_density_2019 = df_density_2019[['LSOA code', 'Month', 'Population', 'Pop_density']]"
   ]
  },
  {
   "cell_type": "code",
   "execution_count": 28,
   "metadata": {},
   "outputs": [],
   "source": [
    "#Merge all DataFrames from 2011 - 2022\n",
    "df_popdensity = pd.DataFrame()\n",
    "df_popdensity = pd.concat([df_density_2011, df_density_2012, df_density_2013, df_density_2014, \n",
    "                            df_density_2015, df_density_2016, df_density_2017, df_density_2018, \n",
    "                            df_density_2019, df_density_2020_2022])"
   ]
  },
  {
   "cell_type": "code",
   "execution_count": 29,
   "metadata": {},
   "outputs": [],
   "source": [
    "#Export merged DataFrame into a .csv file\n",
    "df_popdensity.to_csv('2011-2022_popdensity.csv', index=False)"
   ]
  },
  {
   "cell_type": "code",
   "execution_count": null,
   "metadata": {},
   "outputs": [],
   "source": []
  }
 ],
 "metadata": {
  "kernelspec": {
   "display_name": "Python 3",
   "language": "python",
   "name": "python3"
  },
  "language_info": {
   "codemirror_mode": {
    "name": "ipython",
    "version": 3
   },
   "file_extension": ".py",
   "mimetype": "text/x-python",
   "name": "python",
   "nbconvert_exporter": "python",
   "pygments_lexer": "ipython3",
   "version": "3.11.0 (main, Oct 24 2022, 18:26:48) [MSC v.1933 64 bit (AMD64)]"
  },
  "orig_nbformat": 4,
  "vscode": {
   "interpreter": {
    "hash": "8739e4b358eae07c3281d9c8f6f7d7251326c4bd9bea69a29571a5fa3f04719e"
   }
  }
 },
 "nbformat": 4,
 "nbformat_minor": 2
}
